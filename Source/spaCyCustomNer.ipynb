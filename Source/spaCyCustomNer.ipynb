{
 "cells": [
  {
   "cell_type": "code",
   "execution_count": 33,
   "metadata": {},
   "outputs": [],
   "source": [
    "import spacy\n",
    "import random\n",
    "from unidecode import unidecode\n",
    "import re\n",
    "import json\n",
    "import ast\n",
    "#import pickle"
   ]
  },
  {
   "cell_type": "code",
   "execution_count": 35,
   "metadata": {},
   "outputs": [
    {
     "ename": "TypeError",
     "evalue": "a bytes-like object is required, not 'str'",
     "output_type": "error",
     "traceback": [
      "\u001b[1;31m---------------------------------------------------------------------------\u001b[0m",
      "\u001b[1;31mTypeError\u001b[0m                                 Traceback (most recent call last)",
      "\u001b[1;32m<ipython-input-35-40520bee558e>\u001b[0m in \u001b[0;36m<module>\u001b[1;34m\u001b[0m\n\u001b[0;32m      7\u001b[0m \u001b[1;33m\u001b[0m\u001b[0m\n\u001b[0;32m      8\u001b[0m \u001b[1;32mwith\u001b[0m \u001b[0mopen\u001b[0m\u001b[1;33m(\u001b[0m\u001b[0mfilepath\u001b[0m\u001b[1;33m+\u001b[0m\u001b[0mfilename\u001b[0m\u001b[1;33m)\u001b[0m \u001b[1;32mas\u001b[0m \u001b[0mfp\u001b[0m\u001b[1;33m:\u001b[0m   \u001b[1;31m# Unpickling\u001b[0m\u001b[1;33m\u001b[0m\u001b[1;33m\u001b[0m\u001b[0m\n\u001b[1;32m----> 9\u001b[1;33m     \u001b[0mb\u001b[0m \u001b[1;33m=\u001b[0m \u001b[0mpickle\u001b[0m\u001b[1;33m.\u001b[0m\u001b[0mload\u001b[0m\u001b[1;33m(\u001b[0m\u001b[0mfp\u001b[0m\u001b[1;33m)\u001b[0m\u001b[1;33m\u001b[0m\u001b[1;33m\u001b[0m\u001b[0m\n\u001b[0m\u001b[0;32m     10\u001b[0m \u001b[1;33m\u001b[0m\u001b[0m\n\u001b[0;32m     11\u001b[0m \u001b[1;32mwith\u001b[0m \u001b[0mopen\u001b[0m\u001b[1;33m(\u001b[0m\u001b[0mfilepath\u001b[0m\u001b[1;33m+\u001b[0m\u001b[0mfilename\u001b[0m\u001b[1;33m,\u001b[0m \u001b[0mencoding\u001b[0m\u001b[1;33m=\u001b[0m\u001b[1;34m\"utf-8\"\u001b[0m\u001b[1;33m)\u001b[0m \u001b[1;32mas\u001b[0m \u001b[0mfile\u001b[0m\u001b[1;33m:\u001b[0m\u001b[1;33m\u001b[0m\u001b[1;33m\u001b[0m\u001b[0m\n",
      "\u001b[1;31mTypeError\u001b[0m: a bytes-like object is required, not 'str'"
     ]
    }
   ],
   "source": [
    "filename = 'batata.txt'\n",
    "filepath = 'C:\\\\Users\\\\92007848\\\\Documents\\\\AIproj\\\\AiTeste\\\\Resourses\\\\Files\\\\spaCyTxt\\\\'\n",
    "TRAIN_DATA =[]\n",
    "#pattern = '\\(\\'.*\\', {\\'entities\\': \\[\\([0-9]*, [0-9]*, \\'.*\\'\\),? ?\\]}'\n",
    "pattern1 = '[^\\s\\[\\(\\'].*\\','\n",
    "pattern2 = '{.*}'\n",
    "\n",
    "#with open(filepath+filename) as fp:   # Unpickling\n",
    "#    b = pickle.load(fp)\n",
    "with open(filepath+filename, encoding=\"utf-8\") as file:\n",
    "    for line in file:\n",
    "        listAux = []\n",
    "        listAux.append(re.findall(pattern1,unidecode(line))[0].replace('\\',',''))\n",
    "        listAux.append(ast.literal_eval(re.findall(pattern2,unidecode(line))[0]))        \n",
    "        treatedData = tuple(listAux)\n",
    "        TRAIN_DATA.append(treatedData)     "
   ]
  },
  {
   "cell_type": "code",
   "execution_count": 20,
   "metadata": {},
   "outputs": [],
   "source": [
    "def train_spacy(data,iterations):\n",
    "    TRAIN_DATA = data\n",
    "    nlp = spacy.blank('en')  # create blank Language class\n",
    "    # create the built-in pipeline components and add them to the pipeline\n",
    "    # nlp.create_pipe works for built-ins that are registered with spaCy\n",
    "    if 'ner' not in nlp.pipe_names:\n",
    "        ner = nlp.create_pipe('ner')\n",
    "        nlp.add_pipe(ner, last=True)\n",
    "       \n",
    "\n",
    "    # add labels\n",
    "    for _, annotations in TRAIN_DATA:\n",
    "         for ent in annotations.get('entities'):\n",
    "            ner.add_label(ent[2])\n",
    "\n",
    "    # get names of other pipes to disable them during training\n",
    "    other_pipes = [pipe for pipe in nlp.pipe_names if pipe != 'ner']\n",
    "    with nlp.disable_pipes(*other_pipes):  # only train NER\n",
    "        optimizer = nlp.begin_training()\n",
    "        for itn in range(iterations):\n",
    "            print(\"Statring iteration \" + str(itn))\n",
    "            random.shuffle(TRAIN_DATA)\n",
    "            losses = {}\n",
    "            for text, annotations in TRAIN_DATA:\n",
    "                nlp.update(\n",
    "                    [text],  # batch of texts\n",
    "                    [annotations],  # batch of annotations\n",
    "                    drop=0.2,  # dropout - make it harder to memorise data\n",
    "                    sgd=optimizer,  # callable to update weights\n",
    "                    losses=losses)\n",
    "            print(losses)\n",
    "    return nlp"
   ]
  },
  {
   "cell_type": "code",
   "execution_count": 27,
   "metadata": {},
   "outputs": [
    {
     "name": "stdout",
     "output_type": "stream",
     "text": [
      "Statring iteration 0\n",
      "{'ner': 4.444444239139557}\n",
      "Statring iteration 1\n",
      "{'ner': 4.3317039012908936}\n",
      "Statring iteration 2\n",
      "{'ner': 4.214937508106232}\n",
      "Statring iteration 3\n",
      "{'ner': 3.9672239422798157}\n",
      "Statring iteration 4\n",
      "{'ner': 3.6508814692497253}\n",
      "Statring iteration 5\n",
      "{'ner': 3.271207273006439}\n",
      "Statring iteration 6\n",
      "{'ner': 2.98831045627594}\n",
      "Statring iteration 7\n",
      "{'ner': 2.658048391342163}\n",
      "Statring iteration 8\n",
      "{'ner': 2.227592647075653}\n",
      "Statring iteration 9\n",
      "{'ner': 1.9775916188955307}\n",
      "Statring iteration 10\n",
      "{'ner': 1.7264760434627533}\n",
      "Statring iteration 11\n",
      "{'ner': 1.7325928024947643}\n",
      "Statring iteration 12\n",
      "{'ner': 0.9803473837673664}\n",
      "Statring iteration 13\n",
      "{'ner': 0.9185193553566933}\n",
      "Statring iteration 14\n",
      "{'ner': 0.5816536070778966}\n",
      "Statring iteration 15\n",
      "{'ner': 0.2925421434920281}\n",
      "Statring iteration 16\n",
      "{'ner': 0.112355797435157}\n",
      "Statring iteration 17\n",
      "{'ner': 0.03777029865887016}\n",
      "Statring iteration 18\n",
      "{'ner': 0.07340463803848252}\n",
      "Statring iteration 19\n",
      "{'ner': 0.02114808076839836}\n"
     ]
    }
   ],
   "source": [
    "prdnlp = train_spacy(TRAIN_DATA, 20)"
   ]
  },
  {
   "cell_type": "code",
   "execution_count": null,
   "metadata": {},
   "outputs": [],
   "source": [
    "# Save our trained Model\n",
    "modelfile = 'modeloTeste1'\n",
    "prdnlp.to_disk(modelfile)"
   ]
  },
  {
   "cell_type": "code",
   "execution_count": 28,
   "metadata": {},
   "outputs": [
    {
     "name": "stdout",
     "output_type": "stream",
     "text": [
      "noite 4 9 qualquercoisa\n",
      "batata 18 24 comida\n",
      ". 24 25 comida\n"
     ]
    }
   ],
   "source": [
    "#Test your text\n",
    "test_text = 'boa noite eu como batata.'\n",
    "doc = prdnlp(test_text)\n",
    "for ent in doc.ents:\n",
    "    print(ent.text, ent.start_char, ent.end_char, ent.label_)"
   ]
  },
  {
   "cell_type": "code",
   "execution_count": null,
   "metadata": {},
   "outputs": [],
   "source": []
  }
 ],
 "metadata": {
  "kernelspec": {
   "display_name": "Python 3",
   "language": "python",
   "name": "python3"
  },
  "language_info": {
   "codemirror_mode": {
    "name": "ipython",
    "version": 3
   },
   "file_extension": ".py",
   "mimetype": "text/x-python",
   "name": "python",
   "nbconvert_exporter": "python",
   "pygments_lexer": "ipython3",
   "version": "3.7.3"
  }
 },
 "nbformat": 4,
 "nbformat_minor": 2
}

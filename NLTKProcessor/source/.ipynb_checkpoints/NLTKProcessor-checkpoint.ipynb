{
 "cells": [
  {
   "cell_type": "code",
   "execution_count": 7,
   "metadata": {},
   "outputs": [],
   "source": [
    "from unidecode import unidecode\n",
    "from nltk.tag.perceptron import PerceptronTagger\n",
    "from nltk.corpus import stopwords\n",
    "import nltk as nltk\n",
    "import joblib"
   ]
  },
  {
   "cell_type": "code",
   "execution_count": 59,
   "metadata": {},
   "outputs": [],
   "source": [
    "class NLTKProcessor:\n",
    "    def __init__(self, tagger_path = None ,stop_words = None, pattern = None, tokenizer = lambda x: x.split()):\n",
    "        if tagger_path != None:\n",
    "            self._load_tagger(tagger_path)\n",
    "        else:\n",
    "            self.tagger = PerceptronTagger()\n",
    "        self.stop_words = stop_words\n",
    "        self.pattern = pattern\n",
    "        self.tokenizer = tokenizer\n",
    "        self.parser = nltk.RegexpParser(self.pattern)\n",
    "        \n",
    "    def tagger_training(self, taglist, tagger = PerceptronTagger(load=False) ):\n",
    "        self.tagger = tagger\n",
    "        self.tagger.train(taglist)\n",
    "        \n",
    "    def process(self, sent):\n",
    "        sent = self.tokenizer(unidecode(sent.lower()))\n",
    "        sent = self.tagger.tag(sent)\n",
    "        returner = []\n",
    "        aux_sent = ''\n",
    "        cs = self.parser.parse(sent)\n",
    "        for i in cs:\n",
    "            if len(i) < 2 and i[0][1] == 'K':\n",
    "                returner.append(i[0][0])\n",
    "            elif len(i) > 2:\n",
    "                for j in i:\n",
    "                    aux_sent += j[0]+' '\n",
    "                returner.append(aux_sent)\n",
    "                aux_sent = ''\n",
    "            elif isinstance(i[0],tuple):\n",
    "                returner.append(i[0][0]+' '+i[1][0])\n",
    "        return returner\n",
    "    \n",
    "    def raw_process(self, sent):\n",
    "        sent = self.tokenizer(unidecode(sent.lower()))\n",
    "        sent = self.tagger.tag(sent)\n",
    "        return sent\n",
    "    \n",
    "    def _load_tagger(self, path=None):\n",
    "        self.tagger = joblib.load(path)"
   ]
  },
  {
   "cell_type": "code",
   "execution_count": 30,
   "metadata": {},
   "outputs": [],
   "source": [
    "path = 'C:\\\\Users\\\\92007848\\\\Documents\\\\AIProj\\\\AiTeste\\\\NLTKAlpha\\\\Miscellaneous\\\\AlphaTagger3\\\\AlphaTagger3.pkl'"
   ]
  },
  {
   "cell_type": "code",
   "execution_count": 60,
   "metadata": {},
   "outputs": [],
   "source": [
    "pattern = '''NP:  {<K><STOP>*<K>+} \n",
    "                  {<K>+}'''\n",
    "processor = NLTKProcessor(path, stopwords.words('portuguese'), pattern, nltk.word_tokenize)"
   ]
  },
  {
   "cell_type": "code",
   "execution_count": 61,
   "metadata": {},
   "outputs": [
    {
     "name": "stdout",
     "output_type": "stream",
     "text": [
      "['erro', 'variavel do tipo char ', 'erro']\n"
     ]
    }
   ],
   "source": [
    "sent = \"Boa noite, Gostaria de uma ajuda no diagnóstico e como proceder para eliminar o erro que está mostrando todas as vezes que tento realizar um exercício com variavel do tipo char, pode ser a mais simples possível, sempre mostra o erro conforme anexo. \"\n",
    "print(processor.process(sent))"
   ]
  },
  {
   "cell_type": "code",
   "execution_count": 55,
   "metadata": {},
   "outputs": [
    {
     "name": "stdout",
     "output_type": "stream",
     "text": [
      "['de', 'a', 'o', 'que', 'e', 'é', 'do', 'da', 'em', 'um', 'para', 'com', 'não', 'uma', 'os', 'no', 'se', 'na', 'por', 'mais', 'as', 'dos', 'como', 'mas', 'ao', 'ele', 'das', 'à', 'seu', 'sua', 'ou', 'quando', 'muito', 'nos', 'já', 'eu', 'também', 'só', 'pelo', 'pela', 'até', 'isso', 'ela', 'entre', 'depois', 'sem', 'mesmo', 'aos', 'seus', 'quem', 'nas', 'me', 'esse', 'eles', 'você', 'essa', 'num', 'nem', 'suas', 'meu', 'às', 'minha', 'numa', 'pelos', 'elas', 'qual', 'nós', 'lhe', 'deles', 'essas', 'esses', 'pelas', 'este', 'dele', 'tu', 'te', 'vocês', 'vos', 'lhes', 'meus', 'minhas', 'teu', 'tua', 'teus', 'tuas', 'nosso', 'nossa', 'nossos', 'nossas', 'dela', 'delas', 'esta', 'estes', 'estas', 'aquele', 'aquela', 'aqueles', 'aquelas', 'isto', 'aquilo', 'estou', 'está', 'estamos', 'estão', 'estive', 'esteve', 'estivemos', 'estiveram', 'estava', 'estávamos', 'estavam', 'estivera', 'estivéramos', 'esteja', 'estejamos', 'estejam', 'estivesse', 'estivéssemos', 'estivessem', 'estiver', 'estivermos', 'estiverem', 'hei', 'há', 'havemos', 'hão', 'houve', 'houvemos', 'houveram', 'houvera', 'houvéramos', 'haja', 'hajamos', 'hajam', 'houvesse', 'houvéssemos', 'houvessem', 'houver', 'houvermos', 'houverem', 'houverei', 'houverá', 'houveremos', 'houverão', 'houveria', 'houveríamos', 'houveriam', 'sou', 'somos', 'são', 'era', 'éramos', 'eram', 'fui', 'foi', 'fomos', 'foram', 'fora', 'fôramos', 'seja', 'sejamos', 'sejam', 'fosse', 'fôssemos', 'fossem', 'for', 'formos', 'forem', 'serei', 'será', 'seremos', 'serão', 'seria', 'seríamos', 'seriam', 'tenho', 'tem', 'temos', 'tém', 'tinha', 'tínhamos', 'tinham', 'tive', 'teve', 'tivemos', 'tiveram', 'tivera', 'tivéramos', 'tenha', 'tenhamos', 'tenham', 'tivesse', 'tivéssemos', 'tivessem', 'tiver', 'tivermos', 'tiverem', 'terei', 'terá', 'teremos', 'terão', 'teria', 'teríamos', 'teriam']\n"
     ]
    }
   ],
   "source": [
    "print(processor.stop_words)"
   ]
  },
  {
   "cell_type": "code",
   "execution_count": null,
   "metadata": {},
   "outputs": [],
   "source": []
  }
 ],
 "metadata": {
  "kernelspec": {
   "display_name": "Python 3",
   "language": "python",
   "name": "python3"
  },
  "language_info": {
   "codemirror_mode": {
    "name": "ipython",
    "version": 3
   },
   "file_extension": ".py",
   "mimetype": "text/x-python",
   "name": "python",
   "nbconvert_exporter": "python",
   "pygments_lexer": "ipython3",
   "version": "3.7.3"
  }
 },
 "nbformat": 4,
 "nbformat_minor": 2
}
